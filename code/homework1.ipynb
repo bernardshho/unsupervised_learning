{
 "cells": [
  {
   "cell_type": "markdown",
   "metadata": {},
   "source": [
    "## Homework 1. Senators dataset\n",
    "\n",
    "This dataset contains information on how each senator votes on 542 different bills etc, there are 100 senators in totall; +1 means voted for, -1 means voted against and 0 means abstained. We will use **1-D PCA** to see if we can find the vector of maximum variation."
   ]
  },
  {
   "cell_type": "code",
   "execution_count": 1,
   "metadata": {},
   "outputs": [
    {
     "data": {
      "image/png": "[encoded data removed]",
      "text/plain": [
       "<Figure size 640x480 with 1 Axes>"
      ]
     },
     "metadata": {},
     "output_type": "display_data"
    }
   ],
   "source": [
    "import matplotlib.pyplot as plt\n",
    "import pandas as pd\n",
    "import numpy as np\n",
    "\n",
    "# read in data\n",
    "df = pd.read_csv('../data/senators.csv').set_index('senator')\n",
    "# get the party affiliation\n",
    "parties = df.index.str.split(\"-\").str[-1]\n",
    "\n",
    "\n",
    "# prep for 1-D PCA\n",
    "X = df.to_numpy()\n",
    "\n",
    "# calculate the covariance matrix\n",
    "cov_matrix = np.cov(X, rowvar=False, bias=False)\n",
    "\n",
    "# eigenvectors and eigenvalues, sorted in ascending order\n",
    "# for smallest to largest eivenvalue, get the largest one\n",
    "eigvals, eigvecs = np.linalg.eigh(cov_matrix)\n",
    "dominant_eigenvector = eigvecs[:, -1]\n",
    "print(f'The direction of maximum variance (ie the dominant eigenvector) is {dominant_eigenvector}')\n",
    "\n",
    "\n",
    "# calculating encoding per senator\n",
    "encoding = X @ dominant_eigenvector \n",
    "decoding = np.outer(encoding, dominant_eigenvector)\n",
    "\n",
    "# Encoding: 1D → single-column DataFrame\n",
    "encoding_df = pd.DataFrame(\n",
    "    encoding,\n",
    "    index=df.index,\n",
    "    columns=[\"PC1_encoding\"]\n",
    ")\n",
    "\n",
    "# Decoding: same shape as X → keep original feature names\n",
    "decoding_df = pd.DataFrame(\n",
    "    decoding,\n",
    "    index=df.index,\n",
    "    columns=df.columns\n",
    ")\n",
    "\n",
    "# plotting along party lines\n",
    "fig, ax = plt.subplots()\n",
    "colors = parties.map({'D': 'blue', 'R': 'red', 'I': 'green'})\n",
    "ax.scatter(encoding, [0]*len(encoding), c=colors)\n",
    "ax.set_yticks([])  # hide y-axis since it’s 1D\n",
    "ax.set_xlabel(\"Latent feature z (projection onto v^(1))\")\n",
    "ax.set_title('Senators projected onto the first principal component')\n",
    "ax.set_ylim(-0.05, 0.05)   # squish y-axis close to 0\n",
    "\n",
    "plt.show()\n",
    "\n",
    "## assessing best and worst at decoding\n",
    "\n",
    "errors = ((df - decoding_df) ** 2).mean(axis=1)\n",
    "errors.name = \"MSE\"\n",
    "\n",
    "best_decoded = errors.nsmallest(5)   # 5 senators with lowest MSE\n",
    "worst_decoded = errors.nlargest(5)   # 5 senators with highest MSE"
   ]
  },
  {
   "cell_type": "markdown",
   "metadata": {},
   "source": [
    "### Interpretation: what is $v^{i}$ exactly?\n",
    "\n",
    "$v^{i}$ represents the direction of maximum variance, ie the direction where there is clearest separation in voting behavior. In the chart above, we see that this divide is clearest in the party affiliation. While this is not actually the party affiliation, it is quite similar as thats the direction which separates voting the clearest. "
   ]
  },
  {
   "cell_type": "code",
   "execution_count": 6,
   "metadata": {},
   "outputs": [
    {
     "name": "stdout",
     "output_type": "stream",
     "text": [
      "Selected senators and their PC1 projections:\n",
      "Barack H. Obama-D: PC1 = 7.555, MSE = 0.195\n",
      "John S. McCain-R: PC1 = -9.702, MSE = 0.751\n",
      "Ted Stevens-R: PC1 = -13.648, MSE = 0.645\n"
     ]
    }
   ],
   "source": [
    "selected_senators = ['Barack H. Obama-D', 'John S. McCain-R', 'Ted Stevens-R']\n",
    "\n",
    "print(\"Selected senators and their PC1 projections:\")\n",
    "for senator in selected_senators:\n",
    "    encoding_val = encoding_df.loc[senator, 'PC1_encoding']\n",
    "    mse_error = errors.loc[senator]\n",
    "    print(f\"{senator}: PC1 = {encoding_val:.3f}, MSE = {mse_error:.3f}\")"
   ]
  },
  {
   "cell_type": "markdown",
   "metadata": {},
   "source": [
    "PC1 Projections (Ideological Positioning):\n",
    "\n",
    "Obama (7.555): Strong positive value = liberal end of the spectrum\n",
    "McCain (-9.702): Moderate negative value = conservative, but not extremely so\n",
    "Stevens (-13.648): Most negative value = very conservative end\n",
    "\n",
    "The PC1 clearly captures the liberal-conservative ideological axis, with positive values = Democrats/liberals and negative values = Republicans/conservatives.\n",
    "MSE (Reconstruction Errors):\n",
    "\n",
    "Obama (0.195): Very low error = his voting pattern is well-explained by the main ideological dimension\n",
    "McCain (0.751): Highest error = his voting pattern is poorly captured by just the liberal-conservative axis\n",
    "Stevens (0.645): Moderate error = reasonably well-explained by ideology alone"
   ]
  },
  {
   "cell_type": "markdown",
   "metadata": {},
   "source": [
    "### Which senators vote along the primary axis the most often (likely interpreted as party lines)? "
   ]
  },
  {
   "cell_type": "code",
   "execution_count": 2,
   "metadata": {},
   "outputs": [
    {
     "data": {
      "text/plain": [
       "senator\n",
       "Robert Menendez-D             0.085103\n",
       "Jim W. DeMint-R               0.178241\n",
       "John H. 'Johnny' Isakson-R    0.182145\n",
       "Mel Martinez-R                0.193517\n",
       "Barack H. Obama-D             0.195432\n",
       "Name: MSE, dtype: float64"
      ]
     },
     "execution_count": 2,
     "metadata": {},
     "output_type": "execute_result"
    }
   ],
   "source": [
    "best_decoded"
   ]
  },
  {
   "cell_type": "code",
   "execution_count": 3,
   "metadata": {},
   "outputs": [
    {
     "data": {
      "text/plain": [
       "senator\n",
       "Olympia J. Snowe-R                0.994183\n",
       "Arlen Spector-R                   0.936055\n",
       "James Merrill 'Jim' Jeffords-I    0.852945\n",
       "Michael 'Mike' DeWine-R           0.838235\n",
       "Susan M. Collins-R                0.814496\n",
       "Name: MSE, dtype: float64"
      ]
     },
     "execution_count": 3,
     "metadata": {},
     "output_type": "execute_result"
    }
   ],
   "source": [
    "worst_decoded"
   ]
  }
 ],
 "metadata": {
  "kernelspec": {
   "display_name": "Python 3",
   "language": "python",
   "name": "python3"
  },
  "language_info": {
   "codemirror_mode": {
    "name": "ipython",
    "version": 3
   },
   "file_extension": ".py",
   "mimetype": "text/x-python",
   "name": "python",
   "nbconvert_exporter": "python",
   "pygments_lexer": "ipython3",
   "version": "3.11.7"
  }
 },
 "nbformat": 4,
 "nbformat_minor": 2
}
